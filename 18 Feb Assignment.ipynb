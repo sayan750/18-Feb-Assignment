{
 "cells": [
  {
   "cell_type": "markdown",
   "id": "03fe1565",
   "metadata": {},
   "source": [
    "### Q1.\n",
    "\n",
    "**API stands for Application Programming Interface. It is a set of protocols, routines, and tools for building software and applications. An API allows different software systems to communicate with each other and share data.**\n",
    "\n",
    "**Here real life example:-**\n",
    "\n",
    "**when you use a ride-sharing app like Uber or Lyft. These apps use APIs provided by Google Maps or other mapping services to display real-time location data, route information, and estimated time of arrival to both the driver and the passenger. The app sends a request to the mapping service API, and the API returns the necessary data to the app.**"
   ]
  },
  {
   "cell_type": "markdown",
   "id": "a3df8274",
   "metadata": {},
   "source": [
    "### Q2.\n",
    "\n",
    "**Advantage of API:-**\n",
    "\n",
    "1. APIs can streamline processes and reduce the amount of time and increased efficiency.\n",
    "2. APIs can provide a seamless and integrated experience for users. \n",
    "3. APIs can add new functionality to an application without requiring significant changes to the underlying code.\n",
    "4. APIs enable developers to collaborate more effectively by providing a common interface for different applications to interact with each other.\n",
    "\n",
    "**Disadvantage of API:-**\n",
    "\n",
    "1. APIs can be complex to understand and use, particularly for developers who are new to working with them.\n",
    "2. APIs can create security risks if not implemented properly.\n",
    "3. When using an API, applications become dependent on the availability and performance of the API provider."
   ]
  },
  {
   "cell_type": "markdown",
   "id": "1cf917d2",
   "metadata": {},
   "source": [
    "### Q3.\n",
    "\n",
    "**A Web API (also known as a RESTfFUL API) is a type of API that uses the HTTP protocol to access and manipulate data. It is a web-based interface that allows different applications to interact with each other over the internet. Web APIs use standard HTTP methods like GET, POST, PUT, and DELETE to interact with resources like data, media files, and other services.**\n",
    "\n",
    "**Difference between API & Web API:-**\n",
    "\n",
    "**The key difference between API and Web API is that an API can refer to any type of interface that allows different software components to interact, while a Web API specifically refers to APIs that use HTTP as the protocol for accessing and manipulating data over the web. APIs can use other protocols like FTP, SMTP, or SNMP, while Web APIs are always accessed over the internet using HTTP.**"
   ]
  },
  {
   "cell_type": "markdown",
   "id": "06c004b0",
   "metadata": {},
   "source": [
    "### Q4.\n",
    "\n",
    "**REST Architecture:- REST is an architectural style that defines a set of constraints and principles for designing web services. RESTful services operate over HTTP and use standard HTTP methods (GET, POST, PUT, DELETE) to manipulate resources. REST services communicate using JSON or XML payloads and can be accessed from any client that supports HTTP.**\n",
    "\n",
    "**SOAP Architecture:- SOAP is an XML-based messaging protocol used to exchange structured and typed information between distributed systems. SOAP defines a set of rules for constructing messages, which can be sent over different protocols such as HTTP, SMTP, or JMS. SOAP services use XML schemas to define the structure and type of data, and WSDL (Web Services Description Language) to describe the service and its methods. SOAP services offer features like security, reliability, and transaction management, making them suitable for enterprise-level applications.**\n",
    "\n",
    "**Shortcoming of SOAP:-**\n",
    "\n",
    "1. SOAP is a highly structured protocol. It complexity can make it difficult to understand and use.\n",
    "2. SOAP messages are typically larger than REST messages due to their XML-based format. So it happens slower performance and increased network latency.\n",
    "3. SOAP services have limited caching capabilities, which can impact their scalability and performance in high-traffic scenarios."
   ]
  },
  {
   "cell_type": "markdown",
   "id": "37ed5b93",
   "metadata": {},
   "source": [
    "### Q5.\n",
    "\n",
    "**Difference between REST & SOAP:-**\n",
    "\n",
    "1. REST is an architectural style that uses the HTTP protocol for data exchange, while SOAP is a messaging protocol that uses XML to exchange data between client and server.\n",
    "2. REST is resource-oriented, meaning that it operates on resources and performs actions on them using the HTTP methods (GET, POST, PUT, DELETE). In contrast, SOAP is action-oriented, where it sends a request for a specific action to be performed.\n",
    "3. REST is simpler and more lightweight than SOAP, while SOAP is more complex and requires more configuration.\n",
    "4. REST allows for multiple formats such as JSON, XML, and HTML for data exchange, making it more flexible than SOAP, which primarily uses XML.\n",
    "5. REST allows for caching of data, whereas SOAP does not provide this capability."
   ]
  },
  {
   "cell_type": "code",
   "execution_count": null,
   "id": "aa0a6ce4",
   "metadata": {},
   "outputs": [],
   "source": []
  },
  {
   "cell_type": "code",
   "execution_count": null,
   "id": "510fc991",
   "metadata": {},
   "outputs": [],
   "source": []
  },
  {
   "cell_type": "code",
   "execution_count": null,
   "id": "1e25deda",
   "metadata": {},
   "outputs": [],
   "source": []
  }
 ],
 "metadata": {
  "kernelspec": {
   "display_name": "Python 3 (ipykernel)",
   "language": "python",
   "name": "python3"
  },
  "language_info": {
   "codemirror_mode": {
    "name": "ipython",
    "version": 3
   },
   "file_extension": ".py",
   "mimetype": "text/x-python",
   "name": "python",
   "nbconvert_exporter": "python",
   "pygments_lexer": "ipython3",
   "version": "3.9.13"
  }
 },
 "nbformat": 4,
 "nbformat_minor": 5
}
